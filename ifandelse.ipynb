{
  "nbformat": 4,
  "nbformat_minor": 0,
  "metadata": {
    "colab": {
      "name": "Markdown Guide",
      "provenance": [],
      "collapsed_sections": [],
      "include_colab_link": true
    },
    "kernelspec": {
      "display_name": "Python 3",
      "name": "python3"
    }
  },
  "cells": [
    {
      "cell_type": "markdown",
      "metadata": {
        "id": "view-in-github",
        "colab_type": "text"
      },
      "source": [
        "<a href=\"https://colab.research.google.com/github/mohammadkaif11/Python/blob/main/ifandelse.ipynb\" target=\"_parent\"><img src=\"https://colab.research.google.com/assets/colab-badge.svg\" alt=\"Open In Colab\"/></a>"
      ]
    },
    {
      "cell_type": "markdown",
      "metadata": {
        "id": "XMtKUJLrQ-W-"
      },
      "source": [
        "if else "
      ]
    },
    {
      "cell_type": "code",
      "metadata": {
        "id": "-me9GFz7RAPo",
        "outputId": "c05bc357-3384-450e-e013-da91ccdd7306",
        "colab": {
          "base_uri": "https://localhost:8080/"
        }
      },
      "source": [
        "print(\"please enter value btw 10-30\")\n",
        "a=int(input()) # its specfiy to a variable is int\n",
        "if a>10:\n",
        "   print(\"a is greather than 10\")\n",
        "elif a>20:\n",
        "   print('b is greather than 20')\n",
        "else:\n",
        "  print(\"the input value is greather 30\")"
      ],
      "execution_count": 2,
      "outputs": [
        {
          "output_type": "stream",
          "name": "stdout",
          "text": [
            "please enter value btw 10-30\n",
            "40\n",
            "a is greather than 10\n"
          ]
        }
      ]
    },
    {
      "cell_type": "code",
      "metadata": {
        "id": "ZEuhs8dNTI4Z",
        "outputId": "87aa3460-5382-4242-b220-ab3a43d47f65",
        "colab": {
          "base_uri": "https://localhost:8080/"
        }
      },
      "source": [
        "a=10\n",
        "b=30\n",
        "print(\"a is  less than equal 10\") if a<=10 else print(\"a is greather than 10\") # add multiple condition in one line"
      ],
      "execution_count": 3,
      "outputs": [
        {
          "output_type": "stream",
          "name": "stdout",
          "text": [
            "a is  less than 10\n"
          ]
        }
      ]
    },
    {
      "cell_type": "code",
      "metadata": {
        "id": "OxvNFezGTxOx",
        "outputId": "fa89873f-dca9-4c49-b786-7e3218f965b5",
        "colab": {
          "base_uri": "https://localhost:8080/"
        }
      },
      "source": [
        "#and\n",
        "a=10\n",
        "b=20\n",
        "if (a==10 and b > 10):\n",
        "     print(\"a is equal to 10 and less 20\")"
      ],
      "execution_count": 5,
      "outputs": [
        {
          "output_type": "stream",
          "name": "stdout",
          "text": [
            "a is equal to 10 and less 20\n"
          ]
        }
      ]
    },
    {
      "cell_type": "code",
      "metadata": {
        "id": "jEV-eW7_UR8r",
        "outputId": "0ce3decc-a295-4e65-dcb9-e5e1face4b39",
        "colab": {
          "base_uri": "https://localhost:8080/"
        }
      },
      "source": [
        "#or\n",
        "a=10\n",
        "b=20\n",
        "if (a==10 or b  < 10):\n",
        "     print(\"a is equal to 10\")\n",
        "# pass statment "
      ],
      "execution_count": 6,
      "outputs": [
        {
          "output_type": "stream",
          "name": "stdout",
          "text": [
            "a is equal to 10\n"
          ]
        }
      ]
    }
  ]
}