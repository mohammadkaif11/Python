{
  "nbformat": 4,
  "nbformat_minor": 0,
  "metadata": {
    "colab": {
      "name": "Untitled0.ipynb",
      "provenance": [],
      "authorship_tag": "ABX9TyOFPhBid4RSXVadkUdwPLMu",
      "include_colab_link": true
    },
    "kernelspec": {
      "name": "python3",
      "display_name": "Python 3"
    },
    "language_info": {
      "name": "python"
    }
  },
  "cells": [
    {
      "cell_type": "markdown",
      "metadata": {
        "id": "view-in-github",
        "colab_type": "text"
      },
      "source": [
        "<a href=\"https://colab.research.google.com/github/mohammadkaif11/Python/blob/main/set.ipynb\" target=\"_parent\"><img src=\"https://colab.research.google.com/assets/colab-badge.svg\" alt=\"Open In Colab\"/></a>"
      ]
    },
    {
      "cell_type": "markdown",
      "metadata": {
        "id": "BdRD2hkNf7ZR"
      },
      "source": [
        "A set is a collection which is unordered, unchangeable, and unindexed.\n",
        "\n",
        "\n",
        "\n",
        "*   Sets cannot have two items with the same value.\n",
        "\n",
        "\n"
      ]
    },
    {
      "cell_type": "code",
      "metadata": {
        "colab": {
          "base_uri": "https://localhost:8080/"
        },
        "id": "956owuwKf8KX",
        "outputId": "26d463d6-f267-4313-ba2d-a4ce7365ca5b"
      },
      "source": [
        "myset={\"red\",\"yellow\",\"black\"}\n",
        "print(myset)"
      ],
      "execution_count": 1,
      "outputs": [
        {
          "output_type": "stream",
          "name": "stdout",
          "text": [
            "{'red', 'black', 'yellow'}\n"
          ]
        }
      ]
    },
    {
      "cell_type": "code",
      "metadata": {
        "colab": {
          "base_uri": "https://localhost:8080/"
        },
        "id": "e-rr3zG6gW71",
        "outputId": "847bddab-13fe-4385-9978-8d80a0ba1dc8"
      },
      "source": [
        "print(len(myset))"
      ],
      "execution_count": 2,
      "outputs": [
        {
          "output_type": "stream",
          "name": "stdout",
          "text": [
            "3\n"
          ]
        }
      ]
    },
    {
      "cell_type": "code",
      "metadata": {
        "id": "u-IyNnhYgavL"
      },
      "source": [
        "set1={1,2,3}\n",
        "set2={\"red\",\"black\",\"pinr\"}\n",
        "set3={True,False}"
      ],
      "execution_count": null,
      "outputs": []
    },
    {
      "cell_type": "markdown",
      "metadata": {
        "id": "2VY5eEMSgz0u"
      },
      "source": [
        "You cannot access items in a set by referring to an index or a key.\n",
        "\n",
        "But you can loop through the set items using a for loop, or ask if a specified value is present in a set, by using the in keyword.\n",
        "\n"
      ]
    },
    {
      "cell_type": "code",
      "metadata": {
        "colab": {
          "base_uri": "https://localhost:8080/"
        },
        "id": "IiSspaMVg1mD",
        "outputId": "5eb2ec2c-c473-42eb-dd61-aa3f50e6e97f"
      },
      "source": [
        "set2={\"red\",\"black\",\"pinr\"}\n",
        "\n",
        "for x in set2:\n",
        "    print(x)"
      ],
      "execution_count": 5,
      "outputs": [
        {
          "output_type": "stream",
          "name": "stdout",
          "text": [
            "red\n",
            "black\n",
            "pinr\n"
          ]
        }
      ]
    },
    {
      "cell_type": "code",
      "metadata": {
        "colab": {
          "base_uri": "https://localhost:8080/"
        },
        "id": "VlemqxCmhLx7",
        "outputId": "2d40fa63-ef56-4683-b9fc-cb49899dae00"
      },
      "source": [
        "print(\"red\" in set2)"
      ],
      "execution_count": 7,
      "outputs": [
        {
          "output_type": "stream",
          "name": "stdout",
          "text": [
            "True\n"
          ]
        }
      ]
    },
    {
      "cell_type": "code",
      "metadata": {
        "colab": {
          "base_uri": "https://localhost:8080/"
        },
        "id": "Lv8siLMVhbuJ",
        "outputId": "def865a3-880d-407a-82e4-2075ea6d0975"
      },
      "source": [
        "set2={\"red\",\"black\",\"pinr\"}\n",
        "set2.add(\"yellow\")\n",
        "print(set2)"
      ],
      "execution_count": 9,
      "outputs": [
        {
          "output_type": "stream",
          "name": "stdout",
          "text": [
            "{'red', 'black', 'yellow', 'pinr'}\n"
          ]
        }
      ]
    },
    {
      "cell_type": "code",
      "metadata": {
        "colab": {
          "base_uri": "https://localhost:8080/"
        },
        "id": "Voxf7-noh0Wm",
        "outputId": "ca7c0646-7a02-45f7-f404-5f32730794ca"
      },
      "source": [
        "set1={1,2,3}\n",
        "set2={\"pink\",\"red\"}\n",
        "set1.update(set2)\n",
        "print(set1)"
      ],
      "execution_count": 10,
      "outputs": [
        {
          "output_type": "stream",
          "name": "stdout",
          "text": [
            "{1, 2, 3, 'red', 'pink'}\n"
          ]
        }
      ]
    },
    {
      "cell_type": "code",
      "metadata": {
        "colab": {
          "base_uri": "https://localhost:8080/"
        },
        "id": "XkebwZAtiBTu",
        "outputId": "afde03f4-f4eb-45c6-d158-d5e4ac22b010"
      },
      "source": [
        "set1={1,2,3}\n",
        "ll=[5,6]\n",
        "set1.update(ll)\n",
        "print(set1)\n"
      ],
      "execution_count": 12,
      "outputs": [
        {
          "output_type": "stream",
          "name": "stdout",
          "text": [
            "{1, 2, 3, 5, 6}\n"
          ]
        }
      ]
    },
    {
      "cell_type": "markdown",
      "metadata": {
        "id": "eGlEc_oSiczG"
      },
      "source": [
        "To remove an item in a set, use the remove(), or the discard() method.\n",
        "\n",
        "Note: If the item to remove does not exist, remove() will raise an error.\n",
        "\n",
        "Note: If the item to remove does not exist, discard() will NOT raise an error.\n",
        "\n"
      ]
    },
    {
      "cell_type": "markdown",
      "metadata": {
        "id": "IMCC05yui6TH"
      },
      "source": [
        "You can also use the pop() method to remove an item, but this method will remove the last item. Remember that sets are unordered, so you will not know what item that gets removed.\n",
        "\n"
      ]
    },
    {
      "cell_type": "code",
      "metadata": {
        "colab": {
          "base_uri": "https://localhost:8080/"
        },
        "id": "fMFf0wBjiiOA",
        "outputId": "acc07362-f766-4049-9f54-c4dc0b144d9d"
      },
      "source": [
        "set1={1,2,3,4,4}\n",
        "set1.remove(1)\n",
        "set1.discard(2)\n",
        "print(set1)"
      ],
      "execution_count": 13,
      "outputs": [
        {
          "output_type": "stream",
          "name": "stdout",
          "text": [
            "{3, 4}\n"
          ]
        }
      ]
    },
    {
      "cell_type": "markdown",
      "metadata": {
        "id": "7bXrxq-EjJaK"
      },
      "source": [
        "del()--\n",
        "clr()"
      ]
    },
    {
      "cell_type": "code",
      "metadata": {
        "colab": {
          "base_uri": "https://localhost:8080/"
        },
        "id": "6mW6ek6QjTKB",
        "outputId": "24833395-7450-4049-bcb7-82f52324993b"
      },
      "source": [
        "set1={1,2,3,4}\n",
        "set2={5,6,7,8,9}\n",
        "set1.update(set2)\n",
        "set3=set1.union(set2)\n",
        "print(set3)"
      ],
      "execution_count": 14,
      "outputs": [
        {
          "output_type": "stream",
          "name": "stdout",
          "text": [
            "{1, 2, 3, 4, 5, 6, 7, 8, 9}\n"
          ]
        }
      ]
    },
    {
      "cell_type": "markdown",
      "metadata": {
        "id": "QWG4WyTZjyhh"
      },
      "source": [
        "Intersection of two set"
      ]
    },
    {
      "cell_type": "code",
      "metadata": {
        "colab": {
          "base_uri": "https://localhost:8080/"
        },
        "id": "jsCSKWrzjTPh",
        "outputId": "28fd0178-164a-4137-f787-2281ae8b2973"
      },
      "source": [
        "set1={1,2,3}\n",
        "set2={2}\n",
        "y=set2.intersection(set1)\n",
        "\n",
        "print(set1)\n",
        "print(y)"
      ],
      "execution_count": 17,
      "outputs": [
        {
          "output_type": "stream",
          "name": "stdout",
          "text": [
            "{1, 2, 3}\n",
            "{2}\n"
          ]
        }
      ]
    },
    {
      "cell_type": "code",
      "metadata": {
        "colab": {
          "base_uri": "https://localhost:8080/"
        },
        "id": "PoFzmpvMkXMo",
        "outputId": "d30479a6-90d3-42c4-bf0e-14ba8e6e1345"
      },
      "source": [
        "\n",
        "x = {\"apple\", \"banana\", \"cherry\"}\n",
        "y = {\"google\", \"microsoft\", \"apple\"}\n",
        "\n",
        "x.symmetric_difference_update(y)\n",
        "\n",
        "print(x)"
      ],
      "execution_count": 19,
      "outputs": [
        {
          "output_type": "stream",
          "name": "stdout",
          "text": [
            "{'cherry', 'microsoft', 'google', 'banana'}\n"
          ]
        }
      ]
    }
  ]
}