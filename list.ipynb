{
  "nbformat": 4,
  "nbformat_minor": 0,
  "metadata": {
    "colab": {
      "name": "Markdown Guide",
      "provenance": [],
      "collapsed_sections": [],
      "include_colab_link": true
    },
    "kernelspec": {
      "display_name": "Python 3",
      "name": "python3"
    }
  },
  "cells": [
    {
      "cell_type": "markdown",
      "metadata": {
        "id": "view-in-github",
        "colab_type": "text"
      },
      "source": [
        "<a href=\"https://colab.research.google.com/github/mohammadkaif11/Python/blob/main/list.ipynb\" target=\"_parent\"><img src=\"https://colab.research.google.com/assets/colab-badge.svg\" alt=\"Open In Colab\"/></a>"
      ]
    },
    {
      "cell_type": "markdown",
      "metadata": {
        "id": "KUkdjhgGwsYA"
      },
      "source": [
        "List "
      ]
    },
    {
      "cell_type": "code",
      "metadata": {
        "id": "Tylhdgclwugg",
        "outputId": "1b1037a3-5657-430a-d3a0-65f8d80bb7ff",
        "colab": {
          "base_uri": "https://localhost:8080/"
        }
      },
      "source": [
        "thelist=[\"apple\",\"mongo\",\"banana\",\"mongo\"]\n",
        "print(thelist)\n",
        "print(thelist[2])\n",
        "print(len(thelist))\n",
        "com=[1,\"kaif\",True]\n",
        "print(com)\n",
        "thelist[1]=\"kiwi\"        #change element\n",
        "print(thelist)\n",
        "thelist[1:3]=[\"pupya\",\"lichi\"]  #add/change element [from: to-1] \n",
        "print(thelist)\n",
        "thelist.insert(1,\"kiwi\") # add/change element by index\n",
        "print(thelist)\n",
        "thelist.append(\"carrot\") # add/change element in last\n",
        "print(thelist)\n",
        "\n",
        "thelist.remove(\"mongo\") # remove by value\n",
        "print(thelist)\n",
        "thelist.pop(1) #it delete by postion\n",
        "print(thelist)\n",
        "thelist.pop() #it delete from last\n",
        "print(thelist)\n",
        "fur=['apple','mango']\n",
        "veg=['onion',\"potato\"]\n",
        "fur.extend(veg) # merge to list\n",
        "print(fur)\n",
        "\n",
        "del thelist[0]\n",
        "print(thelist)\n",
        "\n",
        "#del thelist # entire list will delete\n",
        "#print(thelist)\n",
        "\n",
        "  \n",
        "fur.clear()\n",
        "print(fur)\n",
        "\n",
        "\n",
        "\n"
      ],
      "execution_count": 26,
      "outputs": [
        {
          "output_type": "stream",
          "name": "stdout",
          "text": [
            "['apple', 'mongo', 'banana', 'mongo']\n",
            "banana\n",
            "4\n",
            "[1, 'kaif', True]\n",
            "['apple', 'kiwi', 'banana', 'mongo']\n",
            "['apple', 'pupya', 'lichi', 'mongo']\n",
            "['apple', 'kiwi', 'pupya', 'lichi', 'mongo']\n",
            "['apple', 'kiwi', 'pupya', 'lichi', 'mongo', 'carrot']\n",
            "['apple', 'kiwi', 'pupya', 'lichi', 'carrot']\n",
            "['apple', 'pupya', 'lichi', 'carrot']\n",
            "['apple', 'pupya', 'lichi']\n",
            "['apple', 'mango', 'onion', 'potato']\n",
            "['pupya', 'lichi']\n",
            "[]\n"
          ]
        }
      ]
    },
    {
      "cell_type": "markdown",
      "metadata": {
        "id": "f-vvo6oF0rmE"
      },
      "source": [
        ""
      ]
    },
    {
      "cell_type": "markdown",
      "metadata": {
        "id": "1VoIrmFTxb39"
      },
      "source": [
        ""
      ]
    }
  ]
}