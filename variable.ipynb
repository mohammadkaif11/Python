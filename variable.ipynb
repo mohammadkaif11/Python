{
  "nbformat": 4,
  "nbformat_minor": 0,
  "metadata": {
    "colab": {
      "name": "Welcome To Colaboratory",
      "provenance": [],
      "collapsed_sections": [],
      "include_colab_link": true
    },
    "kernelspec": {
      "display_name": "Python 3",
      "name": "python3"
    }
  },
  "cells": [
    {
      "cell_type": "markdown",
      "metadata": {
        "id": "view-in-github",
        "colab_type": "text"
      },
      "source": [
        "<a href=\"https://colab.research.google.com/github/mohammadkaif11/Python/blob/main/variable.ipynb\" target=\"_parent\"><img src=\"https://colab.research.google.com/assets/colab-badge.svg\" alt=\"Open In Colab\"/></a>"
      ]
    },
    {
      "cell_type": "markdown",
      "metadata": {
        "id": "QpDr6PQgib9Q"
      },
      "source": [
        "THE VARIABLE IN PYTHON  NO COMMAND FOR DECLARING IT ,A VARIABLE IS CREATED AT MOMENT OF YOU FIRST ASSGIN A VALUE TO IT;"
      ]
    },
    {
      "cell_type": "code",
      "metadata": {
        "id": "3cN5qRvHh7kc",
        "outputId": "4b8ba678-befb-4e89-d14b-b9ea37db52a8",
        "colab": {
          "base_uri": "https://localhost:8080/"
        }
      },
      "source": [
        "x=5\n",
        "y=10\n",
        "z=\"hello world\";\n",
        "print(x)\n",
        "print(y)\n",
        "print(z)"
      ],
      "execution_count": 14,
      "outputs": [
        {
          "output_type": "stream",
          "name": "stdout",
          "text": [
            "5\n",
            "10\n",
            "hello world\n"
          ]
        }
      ]
    },
    {
      "cell_type": "markdown",
      "metadata": {
        "id": "lWVkPr2Oi-e2"
      },
      "source": [
        "YOU CAN CHANGE VARIABLE VALUE AT A TIME "
      ]
    },
    {
      "cell_type": "code",
      "metadata": {
        "id": "vWj7S4KjjHbq",
        "outputId": "c0e85536-f749-4496-a404-7e8cc998e300",
        "colab": {
          "base_uri": "https://localhost:8080/"
        }
      },
      "source": [
        "x=5\n",
        "x=\"silly\"\n",
        "print(x)"
      ],
      "execution_count": 13,
      "outputs": [
        {
          "output_type": "stream",
          "name": "stdout",
          "text": [
            "silly\n"
          ]
        }
      ]
    }
  ]
}