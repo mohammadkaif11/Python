{
  "nbformat": 4,
  "nbformat_minor": 0,
  "metadata": {
    "colab": {
      "name": "Welcome To Colaboratory",
      "provenance": [],
      "collapsed_sections": [],
      "include_colab_link": true
    },
    "kernelspec": {
      "display_name": "Python 3",
      "name": "python3"
    }
  },
  "cells": [
    {
      "cell_type": "markdown",
      "metadata": {
        "id": "view-in-github",
        "colab_type": "text"
      },
      "source": [
        "<a href=\"https://colab.research.google.com/github/mohammadkaif11/Python/blob/main/variable2.ipynb\" target=\"_parent\"><img src=\"https://colab.research.google.com/assets/colab-badge.svg\" alt=\"Open In Colab\"/></a>"
      ]
    },
    {
      "cell_type": "markdown",
      "metadata": {
        "id": "V49nYI14j0zP"
      },
      "source": [
        "CASTING- IF YOU WANT TO SPECIFY THE DATA TYPES OF A VARIABLE THIS CAN BE DONE BY CASTING\n"
      ]
    },
    {
      "cell_type": "code",
      "metadata": {
        "id": "l1zdaXI_kIvp"
      },
      "source": [
        "x=str(3) # x will be '3'\n",
        "x=int(3) # x will be 3\n",
        "x=float(3) # x will be float "
      ],
      "execution_count": 15,
      "outputs": []
    },
    {
      "cell_type": "code",
      "metadata": {
        "id": "4DDnov-5keZQ",
        "outputId": "33959ca6-c37e-43b0-9e70-3d28ff1c6c8f",
        "colab": {
          "base_uri": "https://localhost:8080/"
        }
      },
      "source": [
        "x=\"kaif\"\n",
        "print(type(x)) # type of functionn"
      ],
      "execution_count": 16,
      "outputs": [
        {
          "output_type": "stream",
          "name": "stdout",
          "text": [
            "<class 'str'>\n"
          ]
        }
      ]
    },
    {
      "cell_type": "markdown",
      "metadata": {
        "id": "GOySqzeBkzi0"
      },
      "source": [
        "Assing multiples value to mutiples variable"
      ]
    },
    {
      "cell_type": "code",
      "metadata": {
        "id": "5fYw2NNXk9Lg",
        "outputId": "a5b5feda-1ae7-40d6-9658-5864f5509d01",
        "colab": {
          "base_uri": "https://localhost:8080/"
        }
      },
      "source": [
        "x,y,z=1,3,\"kaif\"\n",
        "print(x,y,z)\n",
        "a=b=c=\"all value is same\"\n",
        "print(a,b,c)\n"
      ],
      "execution_count": 19,
      "outputs": [
        {
          "output_type": "stream",
          "name": "stdout",
          "text": [
            "1 3 kaif\n",
            "all value is same all value is same all value is same\n"
          ]
        }
      ]
    }
  ]
}