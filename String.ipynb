{
  "nbformat": 4,
  "nbformat_minor": 0,
  "metadata": {
    "colab": {
      "name": "Welcome To Colaboratory",
      "provenance": [],
      "collapsed_sections": [],
      "include_colab_link": true
    },
    "kernelspec": {
      "display_name": "Python 3",
      "name": "python3"
    }
  },
  "cells": [
    {
      "cell_type": "markdown",
      "metadata": {
        "id": "view-in-github",
        "colab_type": "text"
      },
      "source": [
        "<a href=\"https://colab.research.google.com/github/mohammadkaif11/Python/blob/main/String.ipynb\" target=\"_parent\"><img src=\"https://colab.research.google.com/assets/colab-badge.svg\" alt=\"Open In Colab\"/></a>"
      ]
    },
    {
      "cell_type": "markdown",
      "metadata": {
        "id": "pl6lA5GtmiOX"
      },
      "source": [
        "\n",
        "three types numeric datatypes \n",
        "-int\n",
        "-float\n",
        "-complex"
      ]
    },
    {
      "cell_type": "code",
      "metadata": {
        "id": "TrblD4_coo3W",
        "outputId": "70e9cb43-73ba-4ddf-da1b-46dcea3d48a6",
        "colab": {
          "base_uri": "https://localhost:8080/"
        }
      },
      "source": [
        "x=1\n",
        "y=2.8\n",
        "z=1j\n",
        "print(x,y,z)"
      ],
      "execution_count": 37,
      "outputs": [
        {
          "output_type": "stream",
          "name": "stdout",
          "text": [
            "1 2.8 1j\n"
          ]
        }
      ]
    },
    {
      "cell_type": "code",
      "metadata": {
        "id": "3xsVn9nZo2Dy",
        "outputId": "7f227709-7f2a-43c6-9eee-a2b114ec6899",
        "colab": {
          "base_uri": "https://localhost:8080/"
        }
      },
      "source": [
        "import random\n",
        "print(random.randrange(1,10))"
      ],
      "execution_count": 40,
      "outputs": [
        {
          "output_type": "stream",
          "name": "stdout",
          "text": [
            "7\n"
          ]
        }
      ]
    },
    {
      "cell_type": "markdown",
      "metadata": {
        "id": "ILeTEBy2pbfR"
      },
      "source": [
        "Python string"
      ]
    },
    {
      "cell_type": "code",
      "metadata": {
        "id": "LSzV2D0Qpecv",
        "outputId": "70c170bf-ef87-4d07-9ad8-f99ec3e4ac2e",
        "colab": {
          "base_uri": "https://localhost:8080/"
        }
      },
      "source": [
        "a=\"this is kaif\"\n",
        "print(a[0])\n",
        "print(len(a))\n",
        "print(\"this\" in a)\n",
        "if \"this\" in a:\n",
        "  print(\"yes is present\")\n",
        "if \"not\" not in a:\n",
        "  print(\"not in string\")\n",
        "  for x in a:\n",
        "    print(x)"
      ],
      "execution_count": 49,
      "outputs": [
        {
          "output_type": "stream",
          "name": "stdout",
          "text": [
            "t\n",
            "12\n",
            "True\n",
            "yes is present\n",
            "not in string\n",
            "t\n",
            "h\n",
            "i\n",
            "s\n",
            " \n",
            "i\n",
            "s\n",
            " \n",
            "k\n",
            "a\n",
            "i\n",
            "f\n"
          ]
        }
      ]
    },
    {
      "cell_type": "code",
      "metadata": {
        "id": "anyMYeFVqBSW",
        "outputId": "e73a3157-5334-44d5-8b63-22817e1179dd",
        "colab": {
          "base_uri": "https://localhost:8080/"
        }
      },
      "source": [
        "a =\"this is world\"\n",
        "\n",
        "print(a[3:7])\n",
        "print(a[:7])\n",
        "print(a[3:])\n",
        "print(a[-3:-2])# negative is start form last"
      ],
      "execution_count": 54,
      "outputs": [
        {
          "output_type": "stream",
          "name": "stdout",
          "text": [
            "s is\n",
            "this is\n",
            "s is world\n",
            "r\n"
          ]
        }
      ]
    },
    {
      "cell_type": "code",
      "metadata": {
        "id": "B54N4SIJrVkA",
        "outputId": "ed94cd23-623e-49ef-9799-3e22b051796b",
        "colab": {
          "base_uri": "https://localhost:8080/"
        }
      },
      "source": [
        "a=\"this\"\n",
        "print(a.upper())\n",
        "b='THIS'\n",
        "print(a.lower())\n",
        "c=\"  kakaka   \"\n",
        "print(c.strip())\n",
        "print(c.replace('ka','ja'))\n",
        "print(a+b)\n"
      ],
      "execution_count": 59,
      "outputs": [
        {
          "output_type": "stream",
          "name": "stdout",
          "text": [
            "THIS\n",
            "this\n",
            "kakaka\n",
            "  jajaja   \n",
            "thisTHIS\n"
          ]
        }
      ]
    },
    {
      "cell_type": "code",
      "metadata": {
        "id": "Fn3tqhZcsWe2",
        "outputId": "ff1b062a-f42c-4d0a-f671-2112dfce4e1a",
        "colab": {
          "base_uri": "https://localhost:8080/",
          "height": 197
        }
      },
      "source": [
        "age=7\n",
        "a=\"my age is\" + age\n",
        "print(a)"
      ],
      "execution_count": 62,
      "outputs": [
        {
          "output_type": "error",
          "ename": "TypeError",
          "evalue": "ignored",
          "traceback": [
            "\u001b[0;31m---------------------------------------------------------------------------\u001b[0m",
            "\u001b[0;31mTypeError\u001b[0m                                 Traceback (most recent call last)",
            "\u001b[0;32m<ipython-input-62-9fedaa8efcf4>\u001b[0m in \u001b[0;36m<module>\u001b[0;34m()\u001b[0m\n\u001b[1;32m      1\u001b[0m \u001b[0mage\u001b[0m\u001b[0;34m=\u001b[0m\u001b[0;36m7\u001b[0m\u001b[0;34m\u001b[0m\u001b[0;34m\u001b[0m\u001b[0m\n\u001b[0;32m----> 2\u001b[0;31m \u001b[0ma\u001b[0m\u001b[0;34m=\u001b[0m\u001b[0;34m\"my age is\"\u001b[0m \u001b[0;34m+\u001b[0m \u001b[0mage\u001b[0m\u001b[0;34m\u001b[0m\u001b[0;34m\u001b[0m\u001b[0m\n\u001b[0m\u001b[1;32m      3\u001b[0m \u001b[0mprint\u001b[0m\u001b[0;34m(\u001b[0m\u001b[0ma\u001b[0m\u001b[0;34m)\u001b[0m\u001b[0;34m\u001b[0m\u001b[0;34m\u001b[0m\u001b[0m\n",
            "\u001b[0;31mTypeError\u001b[0m: can only concatenate str (not \"int\") to str"
          ]
        }
      ]
    },
    {
      "cell_type": "code",
      "metadata": {
        "id": "Y323CkWhsxC6",
        "outputId": "b46e171d-3c6a-4ba4-e285-a46928a44796",
        "colab": {
          "base_uri": "https://localhost:8080/"
        }
      },
      "source": [
        "age=7\n",
        "a=\"my age is {}\"\n",
        "print(a.format(age))"
      ],
      "execution_count": 65,
      "outputs": [
        {
          "output_type": "stream",
          "name": "stdout",
          "text": [
            "my age is 7\n"
          ]
        }
      ]
    },
    {
      "cell_type": "code",
      "metadata": {
        "id": "6CSTnRdosxSq",
        "outputId": "44d4d8c6-60aa-4cad-df17-57c56c14a4cb",
        "colab": {
          "base_uri": "https://localhost:8080/"
        }
      },
      "source": [
        "a=345\n",
        "b=34\n",
        "c=98\n",
        "d=\"a is {} b is {} c is {}\"\n",
        "print(d.format(a,b,c))"
      ],
      "execution_count": 68,
      "outputs": [
        {
          "output_type": "stream",
          "name": "stdout",
          "text": [
            "a is 345 b is 34 c is 98\n"
          ]
        }
      ]
    }
  ]
}