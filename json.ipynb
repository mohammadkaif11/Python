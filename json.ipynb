{
  "nbformat": 4,
  "nbformat_minor": 0,
  "metadata": {
    "colab": {
      "name": "Welcome To Colaboratory",
      "provenance": [],
      "collapsed_sections": [],
      "toc_visible": true,
      "include_colab_link": true
    },
    "kernelspec": {
      "display_name": "Python 3",
      "name": "python3"
    }
  },
  "cells": [
    {
      "cell_type": "markdown",
      "metadata": {
        "id": "view-in-github",
        "colab_type": "text"
      },
      "source": [
        "<a href=\"https://colab.research.google.com/github/mohammadkaif11/Python/blob/main/json.ipynb\" target=\"_parent\"><img src=\"https://colab.research.google.com/assets/colab-badge.svg\" alt=\"Open In Colab\"/></a>"
      ]
    },
    {
      "cell_type": "markdown",
      "metadata": {
        "id": "U3qMJJ3VYHMN"
      },
      "source": [
        "json"
      ]
    },
    {
      "cell_type": "code",
      "metadata": {
        "id": "-iszG_5tYIgg",
        "outputId": "8ebd2baf-6919-4397-ce5e-657cf98fd568",
        "colab": {
          "base_uri": "https://localhost:8080/"
        }
      },
      "source": [
        "x={\n",
        "    \"name\":\"mohammad kaif\",\n",
        "     \"roll number\":23\n",
        "}\n",
        "print(x)"
      ],
      "execution_count": 11,
      "outputs": [
        {
          "output_type": "stream",
          "name": "stdout",
          "text": [
            "{'name': 'mohammad kaif', 'roll number': 23}\n"
          ]
        }
      ]
    },
    {
      "cell_type": "code",
      "metadata": {
        "id": "J1kMqJBdYJgw",
        "outputId": "90ab2556-6f03-435b-ed51-1a873bbd6050",
        "colab": {
          "base_uri": "https://localhost:8080/"
        }
      },
      "source": [
        "  import json\n",
        "  x =  '{ \"name\":\"John\", \"age\":30, \"city\":\"New York\"}'\n",
        "  y=json.loads(x) # PASE JSON INTO PYTHON DATA\n",
        "print(y)"
      ],
      "execution_count": 16,
      "outputs": [
        {
          "output_type": "stream",
          "name": "stdout",
          "text": [
            "{'name': 'John', 'age': 30, 'city': 'New York'}\n"
          ]
        }
      ]
    },
    {
      "cell_type": "code",
      "metadata": {
        "id": "dhhR9nk_ZLg7",
        "outputId": "a1d69a03-7a10-4a5b-b619-4d1eb131a33a",
        "colab": {
          "base_uri": "https://localhost:8080/"
        }
      },
      "source": [
        "import json\n",
        "x = {\n",
        "  \"name\": \"John\",\n",
        "  \"age\": 30,\n",
        "  \"city\": \"New York\"\n",
        "}\n",
        "\n",
        "y=json.dumps(x) # convert python to json\n",
        "print(y)\n",
        "print(json.dumps(x, indent=4))\n",
        "print(json.dumps(x, indent=4, sort_keys=True))\n",
        "\n"
      ],
      "execution_count": 19,
      "outputs": [
        {
          "output_type": "stream",
          "name": "stdout",
          "text": [
            "{\"name\": \"John\", \"age\": 30, \"city\": \"New York\"}\n",
            "{\n",
            "    \"name\": \"John\",\n",
            "    \"age\": 30,\n",
            "    \"city\": \"New York\"\n",
            "}\n",
            "{\n",
            "    \"age\": 30,\n",
            "    \"city\": \"New York\",\n",
            "    \"name\": \"John\"\n",
            "}\n"
          ]
        }
      ]
    }
  ]
}