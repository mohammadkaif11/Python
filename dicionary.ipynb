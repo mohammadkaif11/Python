{
  "nbformat": 4,
  "nbformat_minor": 0,
  "metadata": {
    "colab": {
      "name": "Untitled0.ipynb",
      "provenance": [],
      "authorship_tag": "ABX9TyM9/k7JrhQufsBj0TT+8Cg6",
      "include_colab_link": true
    },
    "kernelspec": {
      "name": "python3",
      "display_name": "Python 3"
    },
    "language_info": {
      "name": "python"
    }
  },
  "cells": [
    {
      "cell_type": "markdown",
      "metadata": {
        "id": "view-in-github",
        "colab_type": "text"
      },
      "source": [
        "<a href=\"https://colab.research.google.com/github/mohammadkaif11/Python/blob/main/dicionary.ipynb\" target=\"_parent\"><img src=\"https://colab.research.google.com/assets/colab-badge.svg\" alt=\"Open In Colab\"/></a>"
      ]
    },
    {
      "cell_type": "code",
      "metadata": {
        "id": "o6u4m7MPk3bL"
      },
      "source": [
        ""
      ],
      "execution_count": null,
      "outputs": []
    },
    {
      "cell_type": "markdown",
      "metadata": {
        "id": "dKLgd3Ofk9Ng"
      },
      "source": [
        "Dictionary\n",
        "Dictionaries are used to store data values in key:value pairs.\n",
        "\n",
        "A dictionary is a collection which is ordered*, changeable and does not allow duplicates.\n",
        "\n"
      ]
    },
    {
      "cell_type": "code",
      "metadata": {
        "colab": {
          "base_uri": "https://localhost:8080/"
        },
        "id": "YOUGKUdQk_BZ",
        "outputId": "bf3805e3-d13b-445f-a9bf-8d66cc5f637c"
      },
      "source": [
        "thisdic={\n",
        "    \"name\":'kaif',\n",
        "     \"rollno\":29\n",
        "}\n",
        "print(thisdic)"
      ],
      "execution_count": 21,
      "outputs": [
        {
          "output_type": "stream",
          "name": "stdout",
          "text": [
            "{'name': 'kaif', 'rollno': 29}\n"
          ]
        }
      ]
    },
    {
      "cell_type": "code",
      "metadata": {
        "colab": {
          "base_uri": "https://localhost:8080/"
        },
        "id": "biyR2-kalBdf",
        "outputId": "edf11d52-4f46-4fdd-96e4-51a4f29c186b"
      },
      "source": [
        "x=thisdic[\"rollno\"]\n",
        "print(x)\n",
        "y=thisdic.get(\"rollno\")\n",
        "print(y)\n",
        "z=thisdic.keys()\n",
        "print(z)\n",
        "#add item\n",
        "thisdic[\"color\"] = \"white\"\n",
        "print(thisdic.values());\n",
        "# thisdic.update({\"color\":\"white\"})\n",
        "#check if key is exits or not \n",
        "if \"name\" in thisdic:\n",
        "       print(\"name is present\")\n",
        "       #change the item\n",
        "thisdic[\"name\"]=\"mohammad kaif\"\n",
        "print(thisdic.values());\n",
        "#thisdict.update({\"name\": \"mohhamamdkaif\"})\n",
        "\n",
        "thisdic.pop(\"color\")#del my key\n",
        "thisdic.popitem()#it last item\n",
        "# key value pair\n",
        "for x, y in thisdic.items():\n",
        "  print(x, y)\n"
      ],
      "execution_count": 33,
      "outputs": [
        {
          "output_type": "stream",
          "name": "stdout",
          "text": [
            "29\n",
            "29\n",
            "dict_keys(['name', 'rollno', 'color'])\n",
            "dict_values(['mohammad kaif', 29, 'white'])\n",
            "name is present\n",
            "dict_values(['mohammad kaif', 29, 'white'])\n",
            "name mohammad kaif\n"
          ]
        }
      ]
    },
    {
      "cell_type": "code",
      "metadata": {
        "id": "hVJybdU0oNVs"
      },
      "source": [
        "myd=thisdic.copy()\n",
        "myb=dict(myd)"
      ],
      "execution_count": 34,
      "outputs": []
    },
    {
      "cell_type": "code",
      "metadata": {
        "id": "TJSbamBGouln"
      },
      "source": [
        "myfamily = {\n",
        "  \"child1\" : {\n",
        "    \"name\" : \"Emil\",\n",
        "    \"year\" : 2004\n",
        "  },\n",
        "  \"child2\" : {\n",
        "    \"name\" : \"Tobias\",\n",
        "    \"year\" : 2007\n",
        "  },\n",
        "  \"child3\" : {\n",
        "    \"name\" : \"Linus\",\n",
        "    \"year\" : 2011\n",
        "  }\n",
        "}\n",
        "\n",
        "child1 = {\n",
        "  \"name\" : \"Emil\",\n",
        "  \"year\" : 2004\n",
        "}\n",
        "child2 = {\n",
        "  \"name\" : \"Tobias\",\n",
        "  \"year\" : 2007\n",
        "}\n",
        "child3 = {\n",
        "  \"name\" : \"Linus\",\n",
        "  \"year\" : 2011\n",
        "}\n",
        "\n",
        "myfamily = {\n",
        "  \"child1\" : child1,\n",
        "  \"child2\" : child2,\n",
        "  \"child3\" : child3\n",
        "}\n"
      ],
      "execution_count": null,
      "outputs": []
    }
  ]
}