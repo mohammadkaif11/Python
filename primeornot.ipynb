{
  "nbformat": 4,
  "nbformat_minor": 0,
  "metadata": {
    "colab": {
      "name": "Welcome To Colaboratory",
      "provenance": [],
      "collapsed_sections": [],
      "include_colab_link": true
    },
    "kernelspec": {
      "display_name": "Python 3",
      "name": "python3"
    }
  },
  "cells": [
    {
      "cell_type": "markdown",
      "metadata": {
        "id": "view-in-github",
        "colab_type": "text"
      },
      "source": [
        "<a href=\"https://colab.research.google.com/github/mohammadkaif11/Python/blob/main/primeornot.ipynb\" target=\"_parent\"><img src=\"https://colab.research.google.com/assets/colab-badge.svg\" alt=\"Open In Colab\"/></a>"
      ]
    },
    {
      "cell_type": "markdown",
      "metadata": {
        "id": "Z-xKcYXc3WKs"
      },
      "source": [
        "for with if"
      ]
    },
    {
      "cell_type": "code",
      "metadata": {
        "id": "2-rUgtMS3YPD",
        "outputId": "af7b3a4f-994a-4e3b-cc6e-ec89db3c48e1",
        "colab": {
          "base_uri": "https://localhost:8080/"
        }
      },
      "source": [
        "nums=[12,15,20,18,21]\n",
        "for num in nums:\n",
        "    if num%5==0:\n",
        "      print(num)\n",
        "      break\n",
        "    else :\n",
        "       print(\"num for found\")"
      ],
      "execution_count": 5,
      "outputs": [
        {
          "output_type": "stream",
          "name": "stdout",
          "text": [
            "15\n"
          ]
        }
      ]
    },
    {
      "cell_type": "markdown",
      "metadata": {
        "id": "KenHu6XP4Q73"
      },
      "source": [
        "to Check Prime or not"
      ]
    },
    {
      "cell_type": "code",
      "metadata": {
        "id": "6BcWYZAB4aEg",
        "outputId": "24ad7567-ba3c-4dcf-c8b4-0b2f7119380a",
        "colab": {
          "base_uri": "https://localhost:8080/"
        }
      },
      "source": [
        "num=int(input())\n",
        "for  i in range(2,num):\n",
        "      if num%i==0:\n",
        "         print(\"it is  not prime\")\n",
        "         break\n",
        "      else :\n",
        "          print(\"is prime\")"
      ],
      "execution_count": 10,
      "outputs": [
        {
          "output_type": "stream",
          "name": "stdout",
          "text": [
            "54\n",
            "it is  not prime\n"
          ]
        }
      ]
    },
    {
      "cell_type": "code",
      "metadata": {
        "id": "EXeo9xkF4wJN"
      },
      "source": [
        ""
      ],
      "execution_count": null,
      "outputs": []
    }
  ]
}