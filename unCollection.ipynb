{
  "nbformat": 4,
  "nbformat_minor": 0,
  "metadata": {
    "colab": {
      "name": "Welcome To Colaboratory",
      "provenance": [],
      "collapsed_sections": [],
      "include_colab_link": true
    },
    "kernelspec": {
      "display_name": "Python 3",
      "name": "python3"
    }
  },
  "cells": [
    {
      "cell_type": "markdown",
      "metadata": {
        "id": "view-in-github",
        "colab_type": "text"
      },
      "source": [
        "<a href=\"https://colab.research.google.com/github/mohammadkaif11/Python/blob/main/unCollection.ipynb\" target=\"_parent\"><img src=\"https://colab.research.google.com/assets/colab-badge.svg\" alt=\"Open In Colab\"/></a>"
      ]
    },
    {
      "cell_type": "markdown",
      "metadata": {
        "id": "V49nYI14j0zP"
      },
      "source": [
        "Unpack collections"
      ]
    },
    {
      "cell_type": "code",
      "metadata": {
        "id": "e4oFaWx1lqit",
        "outputId": "2ccfa963-d229-46e0-b1b3-03d4bb8caa52",
        "colab": {
          "base_uri": "https://localhost:8080/"
        }
      },
      "source": [
        "fruits=[\"apple\",\"mango\",\"hero\"]\n",
        "x,y,z=fruits\n",
        "print(x)\n",
        "print(y)\n",
        "print(z)"
      ],
      "execution_count": 21,
      "outputs": [
        {
          "output_type": "stream",
          "name": "stdout",
          "text": [
            "apple\n",
            "mango\n",
            "hero\n"
          ]
        }
      ]
    }
  ]
}