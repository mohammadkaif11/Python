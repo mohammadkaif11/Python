{
  "nbformat": 4,
  "nbformat_minor": 0,
  "metadata": {
    "colab": {
      "name": "Welcome To Colaboratory",
      "provenance": [],
      "collapsed_sections": [],
      "include_colab_link": true
    },
    "kernelspec": {
      "display_name": "Python 3",
      "name": "python3"
    }
  },
  "cells": [
    {
      "cell_type": "markdown",
      "metadata": {
        "id": "view-in-github",
        "colab_type": "text"
      },
      "source": [
        "<a href=\"https://colab.research.google.com/github/mohammadkaif11/Python/blob/main/globalvariable.ipynb\" target=\"_parent\"><img src=\"https://colab.research.google.com/assets/colab-badge.svg\" alt=\"Open In Colab\"/></a>"
      ]
    },
    {
      "cell_type": "markdown",
      "metadata": {
        "id": "pl6lA5GtmiOX"
      },
      "source": [
        "Global variable"
      ]
    },
    {
      "cell_type": "code",
      "metadata": {
        "id": "WCZIgLwUmrkt"
      },
      "source": [
        "x=\"outside the function\"\n",
        "def myfun():\n",
        "  x=\"inside the function\"\n",
        "  print(x)\n",
        "  myfun()\n",
        "  print('THE FUNCTION IS OUTSID'+x)\n"
      ],
      "execution_count": 36,
      "outputs": []
    },
    {
      "cell_type": "code",
      "metadata": {
        "id": "DLueypo9n49p"
      },
      "source": [
        ""
      ],
      "execution_count": null,
      "outputs": []
    },
    {
      "cell_type": "code",
      "metadata": {
        "id": "3FURd0HKnV2B"
      },
      "source": [
        "x=\"outside the function\"\n",
        "def myfun():\n",
        "   \n",
        "  global x\n",
        "  x=\"inside the function\"\n",
        "  print(x)\n",
        "  myfun()\n",
        "  print('THE FUNCTION IS OUTSID'+x)\n"
      ],
      "execution_count": 35,
      "outputs": []
    }
  ]
}