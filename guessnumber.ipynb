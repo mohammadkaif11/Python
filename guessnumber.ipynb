{
  "nbformat": 4,
  "nbformat_minor": 0,
  "metadata": {
    "colab": {
      "name": "Welcome To Colaboratory",
      "provenance": [],
      "collapsed_sections": [],
      "include_colab_link": true
    },
    "kernelspec": {
      "display_name": "Python 3",
      "name": "python3"
    }
  },
  "cells": [
    {
      "cell_type": "markdown",
      "metadata": {
        "id": "view-in-github",
        "colab_type": "text"
      },
      "source": [
        "<a href=\"https://colab.research.google.com/github/mohammadkaif11/Python/blob/main/guessnumber.ipynb\" target=\"_parent\"><img src=\"https://colab.research.google.com/assets/colab-badge.svg\" alt=\"Open In Colab\"/></a>"
      ]
    },
    {
      "cell_type": "markdown",
      "metadata": {
        "id": "fL2Onf3IdLN-"
      },
      "source": [
        "Game in python"
      ]
    },
    {
      "cell_type": "code",
      "metadata": {
        "id": "skBRUsyNdNxe"
      },
      "source": [
        ""
      ],
      "execution_count": null,
      "outputs": []
    },
    {
      "cell_type": "code",
      "metadata": {
        "colab": {
          "base_uri": "https://localhost:8080/"
        },
        "id": "sxNGkmBwdN7w",
        "outputId": "cf552af0-b630-4524-8a53-30a07c56dd75"
      },
      "source": [
        "import random \n",
        "sysnum=random.randint(1, 100)\n",
        "usernumber=None\n",
        "guess=0;\n",
        "  \n",
        "while(usernumber != sysnum):\n",
        "          usernumber=int(input(\"Enter number between 1-100 \"))\n",
        "          guess+=1\n",
        "          if(usernumber==sysnum):\n",
        "             print(\"you are win now\")\n",
        "          else: \n",
        "              if(usernumber>sysnum):\n",
        "                print(\"your Number is greather than guess number\")\n",
        "              else:\n",
        "                print(\"your Number is  smallest  guess number\")\n",
        "print(f\"your guess number is {guess}\")\n",
        "\n"
      ],
      "execution_count": 13,
      "outputs": [
        {
          "output_type": "stream",
          "name": "stdout",
          "text": [
            "Enter number between 1-100 10\n",
            "your Number is  smallest  guess number\n",
            "Enter number between 1-100 50\n",
            "your Number is  smallest  guess number\n",
            "Enter number between 1-100 70\n",
            "your Number is greather than guess number\n",
            "Enter number between 1-100 60\n",
            "your Number is greather than guess number\n",
            "Enter number between 1-100 55\n",
            "your Number is  smallest  guess number\n",
            "Enter number between 1-100 57\n",
            "your Number is  smallest  guess number\n",
            "Enter number between 1-100 59\n",
            "your Number is greather than guess number\n",
            "Enter number between 1-100 58\n",
            "you are win now\n",
            "your guess number is 8\n"
          ]
        }
      ]
    },
    {
      "cell_type": "code",
      "metadata": {
        "id": "Qajk7Bi5dkyC"
      },
      "source": [
        ""
      ],
      "execution_count": null,
      "outputs": []
    }
  ]
}